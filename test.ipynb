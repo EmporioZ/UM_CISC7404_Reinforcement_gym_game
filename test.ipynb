{
 "cells": [
  {
   "cell_type": "code",
   "execution_count": null,
   "id": "72ac01d3",
   "metadata": {},
   "outputs": [],
   "source": [
    "\n",
    "from SwimmingDragon  import SwimmingDragonEasy\n",
    "from typing import Any, Dict, Optional, Tuple, Union\n",
    "\n",
    "# JAX相关的数值计算库\n",
    "import chex\n",
    "from flax import struct  # Flax的数据结构工具\n",
    "import jax\n",
    "from jax import lax  # JAX的低级操作库\n",
    "import jax.numpy as jnp  # JAX的数值计算库\n",
    "\n",
    "# Gymnax环境基类和空间定义\n",
    "from gymnax.environments import environment\n",
    "from gymnax.environments import spaces\n"
   ]
  },
  {
   "cell_type": "code",
   "execution_count": null,
   "id": "bee12ac8",
   "metadata": {},
   "outputs": [],
   "source": [
    "\n",
    "env = SwimmingDragonEasy()\n",
    "env_params = env.default_params\n",
    "obs, state = env.reset(jax.random.PRNGKey(0), env_params)\n",
    "key = jax.random.PRNGKey(0)\n",
    "print(obs)\n",
    "key1, key = jax.random.split(key)\n",
    "print(key)"
   ]
  },
  {
   "cell_type": "code",
   "execution_count": null,
   "id": "bb59890e",
   "metadata": {},
   "outputs": [],
   "source": [
    "while True:\n",
    "    action = int(input(\"输入:  0,1,2,3,4\"))\n",
    "    key, step_key = jax.random.split(key)\n",
    "    obs, state, reward, done, info = env.step(step_key, state, action)\n",
    "    print(obs)\n",
    "    if done:\n",
    "        break\n",
    "\n"
   ]
  }
 ],
 "metadata": {
  "kernelspec": {
   "display_name": "Python 3",
   "language": "python",
   "name": "python3"
  },
  "language_info": {
   "codemirror_mode": {
    "name": "ipython",
    "version": 3
   },
   "file_extension": ".py",
   "mimetype": "text/x-python",
   "name": "python",
   "nbconvert_exporter": "python",
   "pygments_lexer": "ipython3",
   "version": "3.12.8"
  }
 },
 "nbformat": 4,
 "nbformat_minor": 5
}

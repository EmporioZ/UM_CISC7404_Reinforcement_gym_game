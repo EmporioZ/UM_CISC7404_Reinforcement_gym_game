{
 "cells": [
  {
   "cell_type": "code",
   "execution_count": null,
   "id": "72ac01d3",
   "metadata": {},
   "outputs": [],
   "source": [
    "\n",
    "from SwimmingDragon  import SwimmingDragonEasy, SwimmingDragonHard\n",
    "from typing import Any, Dict, Optional, Tuple, Union\n",
    "\n",
    "import chex\n",
    "from flax import struct\n",
    "import jax\n",
    "from jax import lax\n",
    "import jax.numpy as jnp\n",
    "\n",
    "from gymnax.environments import environment\n",
    "from gymnax.environments import spaces"
   ]
  },
  {
   "cell_type": "code",
   "execution_count": null,
   "id": "bee12ac8",
   "metadata": {},
   "outputs": [],
   "source": [
    "\n",
    "env = SwimmingDragonHard()\n",
    "env_params = env.default_params\n",
    "obs, state = env.reset(jax.random.PRNGKey(0), env_params)\n",
    "key = jax.random.PRNGKey(0)\n",
    "key, newkey = jax.random.split(key)\n",
    "print(obs)\n",
    "key1, key = jax.random.split(key)\n",
    "print(key)"
   ]
  },
  {
   "cell_type": "code",
   "execution_count": null,
   "id": "bb59890e",
   "metadata": {},
   "outputs": [],
   "source": [
    "while True:\n",
    "    action = int(input(\"Input: 0,1,2,3,4\"))\n",
    "    key, step_key = jax.random.split(key)\n",
    "    obs, state, reward, done, info = env.step(step_key, state, action)\n",
    "    print(obs)\n",
    "    print(reward)\n",
    "    print(f\"Position: {state.x}\")\n",
    "    # if done:\n",
    "        # break\n",
    "\n"
   ]
  },
  {
   "cell_type": "code",
   "execution_count": null,
   "id": "b4ebc7da",
   "metadata": {},
   "outputs": [],
   "source": []
  }
 ],
 "metadata": {
  "kernelspec": {
   "display_name": "JaxEnv",
   "language": "python",
   "name": "python3"
  },
  "language_info": {
   "codemirror_mode": {
    "name": "ipython",
    "version": 3
   },
   "file_extension": ".py",
   "mimetype": "text/x-python",
   "name": "python",
   "nbconvert_exporter": "python",
   "pygments_lexer": "ipython3",
   "version": "3.11.9"
  }
 },
 "nbformat": 4,
 "nbformat_minor": 5
}

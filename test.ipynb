{
 "cells": [
  {
   "cell_type": "code",
   "execution_count": 3,
   "id": "bee12ac8",
   "metadata": {},
   "outputs": [
    {
     "name": "stdout",
     "output_type": "stream",
     "text": [
      "Controls: up, down, left, right, spacebar\n"
     ]
    }
   ],
   "source": [
    "# from skittles import SkittlesEasy, SkittlesMedium, SkittlesHard\n",
    "# from typing import Any, Dict, Optional, Tuple, Union\n",
    "#\n",
    "# import chex\n",
    "# from flax import struct\n",
    "# import jax\n",
    "# from jax import lax\n",
    "# import jax.numpy as jnp\n",
    "#\n",
    "# from gymnax.environments import environment\n",
    "# from gymnax.environments import spaces\n",
    "# import matplotlib.pyplot as plt\n",
    "#\n",
    "# # env = SkittlesHard(obs_size=256)\n",
    "# # env_params = env.default_params\n",
    "# # obs, state = env.reset(jax.random.PRNGKey(0), env_params)\n",
    "# # key = jax.random.PRNGKey(0)\n",
    "# # # plt.imshow(obs)\n",
    "# # # plt.axis(\"off\")\n",
    "# # # plt.show()\n",
    "#\n",
    "# # while True:\n",
    "# #     action = int(input(\"Input: 0,1,2,3,4\"))\n",
    "# #     key, step_key = jax.random.split(key)\n",
    "# #     obs, state, reward, done, info = env.step(step_key, state, action)\n",
    "# #     print(state.matrix_state, state.x)\n",
    "# #     # plt.imshow(obs)\n",
    "# #     # plt.axis(\"off\")\n",
    "# #     # plt.show()\n",
    "#\n",
    "#\n",
    "#\n",
    "# #     # if done:\n",
    "# #         # break\n",
    "#\n",
    "# import jax\n",
    "# import pygame\n",
    "# import numpy as np\n",
    "#\n",
    "# # Change these to play other games\n",
    "# ENV_NAME = \"SkittlesHard\"\n",
    "# IS_POMDP = False\n",
    "# OBS_SIZE = 256\n",
    "#\n",
    "# def to_surf(arr):\n",
    "#     # Convert jax arry to pygame surface\n",
    "#     return np.transpose(np.array(observation * 255).astype(np.uint8), (1, 0, 2))\n",
    "#\n",
    "#\n",
    "# # Create env env variant\n",
    "# env = SkittlesMedium(obs_size=OBS_SIZE, partial_obs = IS_POMDP)\n",
    "# env_params = env.default_params\n",
    "# # Vectorize and compile the env\n",
    "# env_reset = jax.jit(env.reset)\n",
    "# env_step = jax.jit(env.step)\n",
    "#\n",
    "# # Initialize environment\n",
    "# key = jax.random.PRNGKey(0)\n",
    "# key, reset_key = jax.random.split(key)\n",
    "# observation, env_state = env_reset(reset_key, env_params)\n",
    "# done = False\n",
    "#\n",
    "# # Pygame setup\n",
    "# pygame.init()\n",
    "# screen = pygame.display.set_mode((OBS_SIZE, OBS_SIZE))\n",
    "# clock = pygame.time.Clock()\n",
    "# running = True\n",
    "#\n",
    "# # Convert numpy array to Pygame surface\n",
    "# surface = pygame.surfarray.make_surface(to_surf(observation))\n",
    "#\n",
    "# # Action mappings (modify based on your environment's action space)\n",
    "# ACTION_MEANINGS = {\n",
    "#     pygame.K_UP: 0,\n",
    "#     pygame.K_DOWN: 1,\n",
    "#     pygame.K_LEFT: 2,\n",
    "#     pygame.K_RIGHT: 3,\n",
    "#     pygame.K_SPACE: 4,\n",
    "#     # Add more keys if needed\n",
    "# }\n",
    "# print(\"Controls: up, down, left, right, spacebar\")\n",
    "#\n",
    "#\n",
    "#\n",
    "#\n",
    "# while running:\n",
    "#     # Handle events\n",
    "#     action = None\n",
    "#     for event in pygame.event.get():\n",
    "#         if event.type == pygame.QUIT:\n",
    "#             running = False\n",
    "#         elif event.type == pygame.KEYDOWN:\n",
    "#             if event.key in ACTION_MEANINGS:\n",
    "#                 action = ACTION_MEANINGS[event.key]\n",
    "#\n",
    "#\n",
    "#     # Render to screen\n",
    "#     screen.blit(surface, (0, 0))\n",
    "#     pygame.display.flip()\n",
    "#\n",
    "#     # Take action if key pressed\n",
    "#     if action is not None:\n",
    "#         key, step_key = jax.random.split(key)\n",
    "#         observation, env_state, reward, done, info = env_step(step_key, env_state, action, env_params)\n",
    "#         surface = pygame.surfarray.make_surface(to_surf(observation))\n",
    "#\n",
    "#         # Render to screen\n",
    "#         if done:\n",
    "#             print(\"Game over\")\n",
    "#             break\n",
    "#\n",
    "#     clock.tick(30)  # Control FPS\n",
    "#\n",
    "# pygame.quit()\n"
   ]
  },
  {
   "cell_type": "code",
   "id": "bb59890e",
   "metadata": {
    "ExecuteTime": {
     "end_time": "2025-05-09T14:08:31.780278Z",
     "start_time": "2025-05-09T14:08:31.774950Z"
    }
   },
   "source": [
    "import jax.random\n",
    "import optax\n",
    "\n",
    "schedule = optax.linear_schedule(\n",
    "    init_value=1.0,\n",
    "    end_value=0,\n",
    "    transition_steps=200000,\n",
    ")\n",
    "\n",
    "print(schedule(1))\n",
    "\n",
    "print(schedule(10))\n",
    "print(schedule(200000-1))"
   ],
   "outputs": [
    {
     "name": "stdout",
     "output_type": "stream",
     "text": [
      "0.999995\n",
      "0.99995\n",
      "5.00679e-06\n"
     ]
    }
   ],
   "execution_count": 7
  },
  {
   "cell_type": "code",
   "id": "b4ebc7da",
   "metadata": {
    "ExecuteTime": {
     "end_time": "2025-05-09T16:24:13.951879Z",
     "start_time": "2025-05-09T16:24:11.277511Z"
    }
   },
   "source": [
    "from skittles import SkittlesEasy\n",
    "import jax\n",
    "\n",
    "env = SkittlesEasy(partial_obs=False)\n",
    "obs, state = env.reset(jax.random.PRNGKey(0), env.default_params)\n",
    "action = 2\n",
    "obs, state, reward, done, info = env.step(jax.random.PRNGKey(1), state, action, env.default_params)\n",
    "action = 3\n",
    "obs, state, reward, done, info = env.step(jax.random.PRNGKey(2), state, action, env.default_params)\n",
    "action = 4\n",
    "obs, state, reward, done, info = env.step(jax.random.PRNGKey(3), state, action, env.default_params)\n",
    "print(obs)\n"
   ],
   "outputs": [
    {
     "name": "stdout",
     "output_type": "stream",
     "text": [
      "[[0 0 0 0 0 1 0 0]\n",
      " [0 0 0 0 1 0 0 0]\n",
      " [0 0 0 0 1 0 0 0]\n",
      " [0 0 0 0 0 0 0 0]\n",
      " [0 0 0 0 0 0 0 0]\n",
      " [0 0 0 0 0 0 0 0]\n",
      " [0 0 0 0 0 0 0 0]\n",
      " [0 0 0 0 0 0 2 0]]\n"
     ]
    }
   ],
   "execution_count": 1
  }
 ],
 "metadata": {
  "kernelspec": {
   "display_name": "JaxEnv",
   "language": "python",
   "name": "python3"
  },
  "language_info": {
   "codemirror_mode": {
    "name": "ipython",
    "version": 3
   },
   "file_extension": ".py",
   "mimetype": "text/x-python",
   "name": "python",
   "nbconvert_exporter": "python",
   "pygments_lexer": "ipython3",
   "version": "3.11.9"
  }
 },
 "nbformat": 4,
 "nbformat_minor": 5
}
